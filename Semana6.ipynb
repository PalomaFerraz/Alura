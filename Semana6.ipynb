{
 "cells": [
  {
   "cell_type": "code",
   "execution_count": 1,
   "metadata": {},
   "outputs": [],
   "source": [
    "import numpy as np"
   ]
  },
  {
   "cell_type": "code",
   "execution_count": 2,
   "metadata": {},
   "outputs": [],
   "source": [
    "ids = np.arange(1, 101, 1, dtype=int)\n",
    "idades = np.random.randint(low= 18, high= 100, size= 100)\n",
    "sinistros = np.random.randint(low = 5, size= 100)\n",
    "premio = np.random.randint(low = 500000, size= 100)/100\n",
    "\n",
    "rand1 = np.random.randint(low = 2, size= 100)\n",
    "rand2 = np.random.randint(low = 4, size= 100)\n",
    "choicelist1 = ['feminino', 'masculino']\n",
    "choicelist2 = ['solteiro', 'casado', 'divorciado', 'viuvo']\n",
    "condlist1 = [rand1 == 0, rand1 == 1]\n",
    "condlist2 = [rand2 == 0, rand2 == 1, rand2 == 2, rand2 == 3]\n",
    "\n",
    "sexo = np.select(condlist1, choicelist1, default='')\n",
    "estado_civil = np.select(condlist2, choicelist2, default='')\n"
   ]
  },
  {
   "cell_type": "code",
   "execution_count": 3,
   "metadata": {},
   "outputs": [
    {
     "data": {
      "text/plain": [
       "77"
      ]
     },
     "execution_count": 3,
     "metadata": {},
     "output_type": "execute_result"
    }
   ],
   "source": [
    "cliente_maior_30 = idades[idades>30]\n",
    "qtd= np.size(cliente_maior_30)\n",
    "qtd"
   ]
  },
  {
   "cell_type": "code",
   "execution_count": 8,
   "metadata": {},
   "outputs": [
    {
     "data": {
      "text/plain": [
       "array([[   0.  , 1177.08],\n",
       "       [   0.  , 3587.26],\n",
       "       [   0.  , 1679.62],\n",
       "       [   0.  , 1276.26],\n",
       "       [   0.  , 4409.55],\n",
       "       [   0.  , 2705.26],\n",
       "       [   0.  , 1186.3 ],\n",
       "       [   0.  , 1496.76],\n",
       "       [   0.  , 3570.14],\n",
       "       [   0.  , 2144.86],\n",
       "       [   0.  , 1307.03],\n",
       "       [   0.  , 2495.02],\n",
       "       [   0.  , 1668.79],\n",
       "       [   0.  , 1035.03],\n",
       "       [   0.  , 3378.59],\n",
       "       [   0.  , 4132.05],\n",
       "       [   0.  , 4626.89]])"
      ]
     },
     "execution_count": 8,
     "metadata": {},
     "output_type": "execute_result"
    }
   ],
   "source": [
    "dados = np.column_stack((sinistros, premio))\n",
    "cond= np.logical_and(dados[:,0] == 0, dados[:,1] > 1000)\n",
    "cliente_filt = dados[cond]\n",
    "cliente_filt\n"
   ]
  },
  {
   "cell_type": "code",
   "execution_count": 5,
   "metadata": {},
   "outputs": [
    {
     "data": {
      "text/plain": [
       "{'Faixa Etária 18-30': 23,\n",
       " 'Faixa Etária 31-45': 17,\n",
       " 'Faixa Etária 46-60': 10,\n",
       " 'Faixa Etária Acima de 60': 50}"
      ]
     },
     "execution_count": 5,
     "metadata": {},
     "output_type": "execute_result"
    }
   ],
   "source": [
    "# dúvida: como faz na condição para não usar o np.logical??\n",
    "#choicelist1 = ['18-30', '31-45', '46-60', 'Acima 60']\n",
    "choicelist1 = [0, 1, 2, 3]\n",
    "condlist1 = [idades <= 30,  np.logical_and(idades>30, idades<=45) , np.logical_and(idades>45, idades<=60), idades > 60]\n",
    "faixa_etaria = np.select(condlist1, choicelist1, default= 0)\n",
    "\n",
    "lista = []\n",
    "for i in choicelist1:\n",
    "    lista += [np.size(faixa_etaria[faixa_etaria == i])]\n",
    "\n",
    "dict = { 'Faixa Etária 18-30': lista[0],\n",
    "         'Faixa Etária 31-45': lista[1],\n",
    "         'Faixa Etária 46-60': lista[2],\n",
    "         'Faixa Etária Acima de 60': lista[3]}\n",
    "\n",
    "dict"
   ]
  },
  {
   "cell_type": "code",
   "execution_count": 6,
   "metadata": {},
   "outputs": [
    {
     "data": {
      "text/plain": [
       "{'Solteiro': 2486.66,\n",
       " 'Casado': 2500.46,\n",
       " 'Divorciado': 2591.93,\n",
       " 'Viúvo': 2895.8}"
      ]
     },
     "execution_count": 6,
     "metadata": {},
     "output_type": "execute_result"
    }
   ],
   "source": [
    "choicelist1 = [0, 1, 2, 3]\n",
    "condlist1 = [estado_civil == 'solteiro', estado_civil == 'casado' , estado_civil == 'divorciado', estado_civil == 'viuvo']\n",
    "cod_estado_civil = np.select(condlist1, choicelist1, default= 0)\n",
    "\n",
    "dados = np.column_stack((cod_estado_civil, premio)) # coluna0: cod_estado e coluna1: premio\n",
    "\n",
    "lista = []\n",
    "for i in choicelist1:\n",
    "    y = dados[dados[:,0] == i]\n",
    "    lista += [round(np.mean(y[:, 1]),2)]\n",
    "\n",
    "dict = { 'Solteiro': lista[0],\n",
    "         'Casado': lista[1],\n",
    "         'Divorciado': lista[2],\n",
    "         'Viúvo': lista[3]}\n",
    "\n",
    "dict\n"
   ]
  },
  {
   "cell_type": "code",
   "execution_count": 7,
   "metadata": {},
   "outputs": [
    {
     "name": "stdout",
     "output_type": "stream",
     "text": [
      "[[1.00000e+00 3.54295e+03]\n",
      " [3.00000e+00 3.06097e+03]\n",
      " [4.00000e+00 4.95408e+03]\n",
      " [5.00000e+00 3.19047e+03]\n",
      " [6.00000e+00 4.70148e+03]\n",
      " [7.00000e+00 4.18722e+03]\n",
      " [8.00000e+00 4.59385e+03]\n",
      " [9.00000e+00 3.62012e+03]\n",
      " [1.10000e+01 4.38143e+03]\n",
      " [1.20000e+01 4.76657e+03]\n",
      " [1.60000e+01 3.58726e+03]\n",
      " [2.20000e+01 4.89802e+03]\n",
      " [2.50000e+01 4.77515e+03]\n",
      " [2.60000e+01 4.21036e+03]\n",
      " [2.80000e+01 4.78017e+03]\n",
      " [3.10000e+01 3.54221e+03]\n",
      " [3.20000e+01 3.61264e+03]\n",
      " [3.30000e+01 4.77844e+03]\n",
      " [3.80000e+01 4.29462e+03]\n",
      " [3.90000e+01 3.89494e+03]\n",
      " [4.00000e+01 4.40955e+03]\n",
      " [4.30000e+01 2.70526e+03]\n",
      " [4.60000e+01 2.91866e+03]\n",
      " [4.70000e+01 3.04781e+03]\n",
      " [5.10000e+01 4.15148e+03]\n",
      " [5.50000e+01 3.08851e+03]\n",
      " [5.60000e+01 3.85801e+03]\n",
      " [5.70000e+01 3.57014e+03]\n",
      " [5.80000e+01 4.10268e+03]\n",
      " [5.90000e+01 4.51696e+03]\n",
      " [6.10000e+01 2.86919e+03]\n",
      " [6.20000e+01 2.75044e+03]\n",
      " [6.40000e+01 4.72849e+03]\n",
      " [6.70000e+01 3.10771e+03]\n",
      " [6.80000e+01 3.92455e+03]\n",
      " [6.90000e+01 3.91531e+03]\n",
      " [7.10000e+01 3.92481e+03]\n",
      " [7.20000e+01 4.51622e+03]\n",
      " [7.80000e+01 2.64796e+03]\n",
      " [8.00000e+01 4.76926e+03]\n",
      " [8.30000e+01 4.55227e+03]\n",
      " [8.50000e+01 4.05330e+03]\n",
      " [8.80000e+01 3.33407e+03]\n",
      " [8.90000e+01 3.37859e+03]\n",
      " [9.20000e+01 4.48323e+03]\n",
      " [9.60000e+01 4.13205e+03]\n",
      " [9.70000e+01 4.25131e+03]\n",
      " [9.80000e+01 4.50967e+03]\n",
      " [9.90000e+01 4.62689e+03]\n",
      " [1.00000e+02 3.86631e+03]]\n"
     ]
    }
   ],
   "source": [
    "dados = np.column_stack((ids, premio)) # coluna0: identificador_cliente e coluna1: premio\n",
    "\n",
    "premio_medio = np.mean(dados[:,1])\n",
    "\n",
    "cliente_maior_pm = dados[dados[:,1]> premio_medio]\n",
    "print(cliente_maior_pm)"
   ]
  }
 ],
 "metadata": {
  "kernelspec": {
   "display_name": "Python 3",
   "language": "python",
   "name": "python3"
  },
  "language_info": {
   "codemirror_mode": {
    "name": "ipython",
    "version": 3
   },
   "file_extension": ".py",
   "mimetype": "text/x-python",
   "name": "python",
   "nbconvert_exporter": "python",
   "pygments_lexer": "ipython3",
   "version": "3.9.13"
  },
  "orig_nbformat": 4
 },
 "nbformat": 4,
 "nbformat_minor": 2
}
